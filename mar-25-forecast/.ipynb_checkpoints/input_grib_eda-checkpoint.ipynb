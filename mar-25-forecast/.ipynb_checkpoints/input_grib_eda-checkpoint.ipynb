{
 "cells": [
  {
   "cell_type": "code",
   "execution_count": 1,
   "metadata": {},
   "outputs": [],
   "source": [
    "import pandas as pd\n",
    "import numpy as np\n",
    "import pygrib"
   ]
  },
  {
   "cell_type": "code",
   "execution_count": 9,
   "metadata": {
    "scrolled": true
   },
   "outputs": [
    {
     "name": "stdout",
     "output_type": "stream",
     "text": [
      "1:Geopotential Height:gpm (instant):regular_gg:hybrid:level 1:fcst time 0 hrs:from 202103250000\n",
      "2:Temperature:K (instant):regular_gg:hybrid:level 1:fcst time 0 hrs:from 202103250000\n",
      "3:Specific humidity:kg kg**-1 (instant):regular_gg:hybrid:level 1:fcst time 0 hrs:from 202103250000\n",
      "4:U component of wind:m s**-1 (instant):regular_gg:hybrid:level 1:fcst time 0 hrs:from 202103250000\n",
      "5:V component of wind:m s**-1 (instant):regular_gg:hybrid:level 1:fcst time 0 hrs:from 202103250000\n",
      "6:Surface pressure:Pa (instant):regular_gg:surface:level 0:fcst time 0 hrs:from 202103250000\n",
      "7:Orography:m (instant):regular_gg:surface:level 0:fcst time 0 hrs:from 202103250000\n",
      "8:Temperature:K (instant):regular_gg:surface:level 0:fcst time 0 hrs:from 202103250000\n",
      "9:Soil Temperature:K (instant):regular_gg:depthBelowLandLayer:levels 0.0-0.1 m:fcst time 0 hrs:from 202103250000\n",
      "10:Volumetric soil moisture content:Proportion (instant):regular_gg:depthBelowLandLayer:levels 0.0-0.1 m:fcst time 0 hrs:from 202103250000\n",
      "11:Liquid volumetric soil moisture (non-frozen):Proportion (instant):regular_gg:depthBelowLandLayer:levels 0.0-0.1 m:fcst time 0 hrs:from 202103250000\n",
      "12:Soil Temperature:K (instant):regular_gg:depthBelowLandLayer:levels 0.1-0.4 m:fcst time 0 hrs:from 202103250000\n",
      "13:Volumetric soil moisture content:Proportion (instant):regular_gg:depthBelowLandLayer:levels 0.1-0.4 m:fcst time 0 hrs:from 202103250000\n",
      "14:Liquid volumetric soil moisture (non-frozen):Proportion (instant):regular_gg:depthBelowLandLayer:levels 0.1-0.4 m:fcst time 0 hrs:from 202103250000\n",
      "15:Soil Temperature:K (instant):regular_gg:depthBelowLandLayer:levels 0.4-1.0 m:fcst time 0 hrs:from 202103250000\n",
      "16:Volumetric soil moisture content:Proportion (instant):regular_gg:depthBelowLandLayer:levels 0.4-1.0 m:fcst time 0 hrs:from 202103250000\n",
      "17:Liquid volumetric soil moisture (non-frozen):Proportion (instant):regular_gg:depthBelowLandLayer:levels 0.4-1.0 m:fcst time 0 hrs:from 202103250000\n",
      "18:Soil Temperature:K (instant):regular_gg:depthBelowLandLayer:levels 1.0-2.0 m:fcst time 0 hrs:from 202103250000\n",
      "19:Volumetric soil moisture content:Proportion (instant):regular_gg:depthBelowLandLayer:levels 1.0-2.0 m:fcst time 0 hrs:from 202103250000\n",
      "20:Liquid volumetric soil moisture (non-frozen):Proportion (instant):regular_gg:depthBelowLandLayer:levels 1.0-2.0 m:fcst time 0 hrs:from 202103250000\n",
      "21:Soil Moisture:kg m**-3 (instant):regular_gg:depthBelowLandLayer:levels 0.0-2.0 m:fcst time 0 hrs:from 202103250000\n",
      "22:Plant canopy surface water:kg m**-2 (instant):regular_gg:surface:level 0:fcst time 0 hrs:from 202103250000\n",
      "23:Water equivalent of accumulated snow depth (deprecated):kg m**-2 (instant):regular_gg:surface:level 0:fcst time 0 hrs:from 202103250000\n",
      "24:Snow depth:m (instant):regular_gg:surface:level 0:fcst time 0 hrs:from 202103250000\n",
      "25:Potential evaporation rate:W m**-2 (instant):regular_gg:surface:level 0:fcst time 0 hrs:from 202103250000\n",
      "26:Ice thickness:m (instant):regular_gg:surface:level 0:fcst time 0 hrs:from 202103250000\n",
      "27:Aerodynamic conductance:m s**-1 (instant):regular_gg:surface:level 0:fcst time 0 hrs:from 202103250000\n",
      "28:2 metre temperature:K (instant):regular_gg:heightAboveGround:level 2 m:fcst time 0 hrs:from 202103250000\n",
      "29:2 metre specific humidity:kg kg**-1 (instant):regular_gg:heightAboveGround:level 2 m:fcst time 0 hrs:from 202103250000\n",
      "30:10 metre U wind component:m s**-1 (instant):regular_gg:heightAboveGround:level 10 m:fcst time 0 hrs:from 202103250000\n",
      "31:10 metre V wind component:m s**-1 (instant):regular_gg:heightAboveGround:level 10 m:fcst time 0 hrs:from 202103250000\n",
      "32:Percent frozen precipitation:% (instant):regular_gg:surface:level 0:fcst time 0 hrs:from 202103250000\n",
      "33:Surface roughness:m (instant):regular_gg:surface:level 0:fcst time 0 hrs:from 202103250000\n",
      "34:Frictional velocity:m s**-1 (instant):regular_gg:surface:level 0:fcst time 0 hrs:from 202103250000\n",
      "35:Sensible heat net flux:W m**-2 (instant):regular_gg:surface:level 0:fcst time 0 hrs:from 202103250000\n",
      "36:Latent heat net flux:W m**-2 (instant):regular_gg:surface:level 0:fcst time 0 hrs:from 202103250000\n",
      "37:Exchange coefficient:kg m**-2 s**-1 (instant):regular_gg:surface:level 0:fcst time 0 hrs:from 202103250000\n",
      "38:Vegetation:% (instant):regular_gg:surface:level 0:fcst time 0 hrs:from 202103250000\n",
      "39:Ground heat flux:W m**-2 (instant):regular_gg:surface:level 0:fcst time 0 hrs:from 202103250000\n",
      "40:Vegetation Type:Integer(0-13) (instant):regular_gg:surface:level 0:fcst time 0 hrs:from 202103250000\n",
      "41:Soil type:~ (instant):regular_gg:surface:level 0:fcst time 0 hrs:from 202103250000\n",
      "42:Surface Slope Type:Index (instant):regular_gg:surface:level 0:fcst time 0 hrs:from 202103250000\n",
      "43:Wilting Point:Fraction (instant):regular_gg:surface:level 0:fcst time 0 hrs:from 202103250000\n",
      "44:Field Capacity:Fraction (instant):regular_gg:surface:level 0:fcst time 0 hrs:from 202103250000\n",
      "45:Sunshine Duration:s (instant):regular_gg:surface:level 0:fcst time 0 hrs:from 202103250000\n",
      "46:Precipitable water:kg m**-2 (instant):regular_gg:unknown:level 0 considered as a single layer:fcst time 0 hrs:from 202103250000\n",
      "47:Total Cloud Cover:% (instant):regular_gg:unknown:level 0:fcst time 0 hrs:from 202103250000\n",
      "48:Downward short-wave radiation flux:W m**-2 (instant):regular_gg:surface:level 0:fcst time 0 hrs:from 202103250000\n",
      "49:Downward long-wave radiation flux:W m**-2 (instant):regular_gg:surface:level 0:fcst time 0 hrs:from 202103250000\n",
      "50:Upward short-wave radiation flux:W m**-2 (instant):regular_gg:surface:level 0:fcst time 0 hrs:from 202103250000\n",
      "51:Upward long-wave radiation flux:W m**-2 (instant):regular_gg:surface:level 0:fcst time 0 hrs:from 202103250000\n",
      "52:Planetary boundary layer height:m (instant):regular_gg:surface:level 0:fcst time 0 hrs:from 202103250000\n",
      "53:Land-sea mask:(0 - 1) (instant):regular_gg:surface:level 0:fcst time 0 hrs:from 202103250000\n",
      "54:Sea ice area fraction:(0 - 1) (instant):regular_gg:surface:level 0:fcst time 0 hrs:from 202103250000\n"
     ]
    }
   ],
   "source": [
    "grb_fp = (r\"/Users/alexyoung/Desktop/Cornell/Classes/Spring_2021/\"\n",
    "          \"EAS_5555-Numerical_Climate_Modeling/WRF_Runs/DATA/gfs.t00z.sfluxgrbf000.grib2\")\n",
    "grbs = pygrib.open(grb_fp)\n",
    "\n",
    "# Print the file inventory.\n",
    "grbs.seek(0)\n",
    "for grb in grbs:\n",
    "    print(grb)"
   ]
  },
  {
   "cell_type": "code",
   "execution_count": 10,
   "metadata": {},
   "outputs": [
    {
     "name": "stdout",
     "output_type": "stream",
     "text": [
      "(array([[ 89.91032453,  89.91032453,  89.91032453, ...,  89.91032453,\n",
      "         89.91032453,  89.91032453],\n",
      "       [ 89.79415739,  89.79415739,  89.79415739, ...,  89.79415739,\n",
      "         89.79415739,  89.79415739],\n",
      "       [ 89.67730421,  89.67730421,  89.67730421, ...,  89.67730421,\n",
      "         89.67730421,  89.67730421],\n",
      "       ...,\n",
      "       [-89.67730421, -89.67730421, -89.67730421, ..., -89.67730421,\n",
      "        -89.67730421, -89.67730421],\n",
      "       [-89.79415739, -89.79415739, -89.79415739, ..., -89.79415739,\n",
      "        -89.79415739, -89.79415739],\n",
      "       [-89.91032453, -89.91032453, -89.91032453, ..., -89.91032453,\n",
      "        -89.91032453, -89.91032453]]), array([[0.00000000e+00, 1.17187500e-01, 2.34375000e-01, ...,\n",
      "        3.59648438e+02, 3.59765625e+02, 3.59882813e+02],\n",
      "       [0.00000000e+00, 1.17187500e-01, 2.34375000e-01, ...,\n",
      "        3.59648438e+02, 3.59765625e+02, 3.59882813e+02],\n",
      "       [0.00000000e+00, 1.17187500e-01, 2.34375000e-01, ...,\n",
      "        3.59648438e+02, 3.59765625e+02, 3.59882813e+02],\n",
      "       ...,\n",
      "       [0.00000000e+00, 1.17187500e-01, 2.34375000e-01, ...,\n",
      "        3.59648438e+02, 3.59765625e+02, 3.59882813e+02],\n",
      "       [0.00000000e+00, 1.17187500e-01, 2.34375000e-01, ...,\n",
      "        3.59648438e+02, 3.59765625e+02, 3.59882813e+02],\n",
      "       [0.00000000e+00, 1.17187500e-01, 2.34375000e-01, ...,\n",
      "        3.59648438e+02, 3.59765625e+02, 3.59882813e+02]]))\n"
     ]
    }
   ],
   "source": [
    "# Grib lat lons.\n",
    "print(grb.latlons())"
   ]
  },
  {
   "cell_type": "code",
   "execution_count": 12,
   "metadata": {},
   "outputs": [
    {
     "name": "stdout",
     "output_type": "stream",
     "text": [
      "-89.91032453466268\n",
      "89.91032453466268\n",
      "0.0\n",
      "359.88281299997294\n"
     ]
    }
   ],
   "source": [
    "# Plot the extent of the file.\n",
    "lats = grb.latlons()[0]\n",
    "lons = grb.latlons()[1]\n",
    "print(np.min(lats))\n",
    "print(np.max(lats))\n",
    "print(np.min(lons))\n",
    "print(np.max(lons))"
   ]
  },
  {
   "cell_type": "code",
   "execution_count": null,
   "metadata": {},
   "outputs": [],
   "source": []
  }
 ],
 "metadata": {
  "kernelspec": {
   "display_name": "main-env",
   "language": "python",
   "name": "main-env"
  },
  "language_info": {
   "codemirror_mode": {
    "name": "ipython",
    "version": 3
   },
   "file_extension": ".py",
   "mimetype": "text/x-python",
   "name": "python",
   "nbconvert_exporter": "python",
   "pygments_lexer": "ipython3",
   "version": "3.8.4"
  }
 },
 "nbformat": 4,
 "nbformat_minor": 4
}
